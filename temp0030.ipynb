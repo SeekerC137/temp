{
 "cells": [
  {
   "cell_type": "code",
   "execution_count": 1,
   "metadata": {},
   "outputs": [
    {
     "output_type": "execute_result",
     "data": {
      "text/plain": "<pandas.io.formats.style.Styler at 0xafd1090>",
      "text/html": "<style  type=\"text/css\" >\n    #T_63ffc728_ab55_11ea_8f1b_00e04caa3030row0_col2 {\n            background-color:  ;\n            background-color:  ;\n            background-color:  ;\n            background-color:  ;\n            background-color:  ;\n        }    #T_63ffc728_ab55_11ea_8f1b_00e04caa3030row0_col3 {\n            background-color:  ;\n            background-color:  ;\n            background-color:  ;\n            background-color:  ;\n        }    #T_63ffc728_ab55_11ea_8f1b_00e04caa3030row0_col4 {\n            background-color:  ;\n            background-color:  ;\n            background-color:  ;\n            background-color:  ;\n        }    #T_63ffc728_ab55_11ea_8f1b_00e04caa3030row0_col5 {\n            background-color:  ;\n            background-color:  ;\n        }    #T_63ffc728_ab55_11ea_8f1b_00e04caa3030row0_col6 {\n            background-color:  lightblue;\n        }</style><table id=\"T_63ffc728_ab55_11ea_8f1b_00e04caa3030\" ><thead>    <tr>        <th class=\"blank level0\" ></th>        <th class=\"col_heading level0 col0\" >Тикер</th>        <th class=\"col_heading level0 col1\" >Цена</th>        <th class=\"col_heading level0 col2\" >Див. доход</th>        <th class=\"col_heading level0 col3\" >Прогн. доход</th>        <th class=\"col_heading level0 col4\" >P/E</th>        <th class=\"col_heading level0 col5\" >Флаг див.</th>        <th class=\"col_heading level0 col6\" >Валюта</th>        <th class=\"col_heading level0 col7\" >Кумм. коэф.</th>        <th class=\"col_heading level0 col8\" >Отрасль</th>    </tr></thead><tbody>\n                <tr>\n                        <th id=\"T_63ffc728_ab55_11ea_8f1b_00e04caa3030level0_row0\" class=\"row_heading level0 row0\" >0</th>\n                        <td id=\"T_63ffc728_ab55_11ea_8f1b_00e04caa3030row0_col0\" class=\"data row0 col0\" >LSRG</td>\n                        <td id=\"T_63ffc728_ab55_11ea_8f1b_00e04caa3030row0_col1\" class=\"data row0 col1\" >676.600000</td>\n                        <td id=\"T_63ffc728_ab55_11ea_8f1b_00e04caa3030row0_col2\" class=\"data row0 col2\" >11.500000</td>\n                        <td id=\"T_63ffc728_ab55_11ea_8f1b_00e04caa3030row0_col3\" class=\"data row0 col3\" >22.500000</td>\n                        <td id=\"T_63ffc728_ab55_11ea_8f1b_00e04caa3030row0_col4\" class=\"data row0 col4\" >8.770000</td>\n                        <td id=\"T_63ffc728_ab55_11ea_8f1b_00e04caa3030row0_col5\" class=\"data row0 col5\" >1</td>\n                        <td id=\"T_63ffc728_ab55_11ea_8f1b_00e04caa3030row0_col6\" class=\"data row0 col6\" >RUB</td>\n                        <td id=\"T_63ffc728_ab55_11ea_8f1b_00e04caa3030row0_col7\" class=\"data row0 col7\" >464</td>\n                        <td id=\"T_63ffc728_ab55_11ea_8f1b_00e04caa3030row0_col8\" class=\"data row0 col8\" >Недвижимость</td>\n            </tr>\n    </tbody></table>"
     },
     "metadata": {},
     "execution_count": 1
    }
   ],
   "source": [
    "%run ./temp0030.py\n",
    "# ОБЯЗАТЕЛЬНО нажмите кнопку \"Run\" для актуализации данных!\n",
    "# Затем нажмите \"Out[1]\" чтобы развернуть таблицу.\n",
    "df"
   ]
  }
 ],
 "metadata": {
  "language_info": {
   "codemirror_mode": {
    "name": "ipython",
    "version": 3
   },
   "file_extension": ".py",
   "mimetype": "text/x-python",
   "name": "python",
   "nbconvert_exporter": "python",
   "pygments_lexer": "ipython3",
   "version": "3.7.0-final"
  },
  "orig_nbformat": 2,
  "kernelspec": {
   "name": "python3",
   "display_name": "Python 3"
  }
 },
 "nbformat": 4,
 "nbformat_minor": 2
}