{
 "cells": [
  {
   "cell_type": "code",
   "execution_count": null,
   "metadata": {},
   "outputs": [],
   "source": [
    "import pandas as pd\n",
    "\n",
    "df = pd.read_csv(\"temp0001.txt\",header=None,\n",
    "                 names=['Тикер', 'Цена', 'Див. доход', 'Прогн. доход', 'Флаг див.', 'Валюта', 'Кумм. коэф.', 'Отрасль'],\n",
    "                 skipfooter=0, dtype={'Тикер': str, 'Цена': float, 'Див. доход': float, 'Прогн. доход': float, 'Флаг див.': str, 'Валюта': str, 'Кумм. коэф.': int, 'Отрасль': str})\n",
    "\n",
    "def highlight_high_div_yield(data):\n",
    "    color = 'green' if data >= 0.15 else ''\n",
    "    return 'background-color: %s' %color\n",
    "\n",
    "def highlight_low_div_yield(data):\n",
    "    color = 'red' if data < 0.07 else ''\n",
    "    return 'background-color: %s' %color\n",
    "\n",
    "def highlight_high_pred_yield(data):\n",
    "    color = 'green' if data >= 0.36 else ''\n",
    "    return 'background-color: %s' %color\n",
    "\n",
    "def highlight_low_pred_yield(data):\n",
    "    color = 'green' if data < 0.35 else ''\n",
    "    return 'background-color: %s' %color\n",
    "\n",
    "def highlight_is_often_div(data):\n",
    "    color = 'green' if int(data) >= 4 else ''\n",
    "    return 'background-color: %s' %color\n",
    "\n",
    "def highlight_is_futur_div(data):\n",
    "    color = 'lightgreen' if data.find('+') != -1 else ''\n",
    "    return 'background-color: %s' %color\n",
    "\n",
    "def highlight_is_rub(data):\n",
    "    color = 'blue' if data == 'RUB' else ''\n",
    "    return 'background-color: %s' %color\n",
    "\n",
    "df = (df.style\n",
    "        .applymap(highlight_high_div_yield, subset=['Див. доход'])\n",
    "        .applymap(highlight_low_div_yield, subset=['Див. доход'])\n",
    "        .applymap(highlight_high_pred_yield, subset=['Прогн. доход'])\n",
    "        .applymap(highlight_low_pred_yield, subset=['Прогн. доход'])\n",
    "        .applymap(highlight_is_often_div, subset=['Флаг див.'])\n",
    "        .applymap(highlight_is_futur_div, subset=['Флаг див.'])\n",
    "        .applymap(highlight_is_rub, subset=['Валюта'])\n",
    "     )\n",
    "\n",
    "df"
   ]
  }
 ],
 "metadata": {
  "language_info": {
   "codemirror_mode": {
    "name": "ipython",
    "version": 3
   },
   "file_extension": ".py",
   "mimetype": "text/x-python",
   "name": "python",
   "nbconvert_exporter": "python",
   "pygments_lexer": "ipython3",
   "version": "3.7.0-final"
  },
  "orig_nbformat": 2,
  "kernelspec": {
   "name": "python37032bit2b0b9069cce4416f9c417a808119c1c1",
   "display_name": "Python 3.7.0 32-bit"
  }
 },
 "nbformat": 4,
 "nbformat_minor": 2
}