{
 "cells": [
  {
   "cell_type": "code",
   "execution_count": null,
   "metadata": {},
   "outputs": [],
   "source": [
    "import pandas as pd\n",
    "\n",
    "df = pd.read_csv(\"temp0001.txt\",header=None,\n",
    "                 names=['Тикер', 'Цена', 'Див. доход', 'Прогн. доход', 'Флаг див.', 'Валюта', 'Кумм. коэф.', 'Дата дивиденда'],\n",
    "                 skipfooter=0)\n",
    "a = 0.1\n",
    "b=0.15\n",
    "def color_negative_red(val):\n",
    "    \"\"\"\n",
    "    Takes a scalar and returns a string with\n",
    "    the css property `'color: red'` for negative\n",
    "    strings, black otherwise.\n",
    "    \"\"\"\n",
    "    color = 'red' if val < a else 'black'\n",
    "    return 'color: %s' % color\n",
    "df.style.applymap(color_negative_red)\n",
    "df"
   ]
  }
 ],
 "metadata": {
  "language_info": {
   "codemirror_mode": {
    "name": "ipython",
    "version": 3
   },
   "file_extension": ".py",
   "mimetype": "text/x-python",
   "name": "python",
   "nbconvert_exporter": "python",
   "pygments_lexer": "ipython3",
   "version": 3
  },
  "orig_nbformat": 2
 },
 "nbformat": 4,
 "nbformat_minor": 2
}